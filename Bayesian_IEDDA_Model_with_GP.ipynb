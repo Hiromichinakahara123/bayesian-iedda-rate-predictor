{
 "cells": [
  {
   "cell_type": "markdown",
   "id": "6002d097",
   "metadata": {},
   "source": [
    "# Bayesian GP Model for IEDDA Reaction Rates"
   ]
  },
  {
   "cell_type": "code",
   "execution_count": null,
   "id": "5bcdbb3c",
   "metadata": {},
   "outputs": [],
   "source": [
    "!pip install rdkit pymc arviz --quiet"
   ]
  },
  {
   "cell_type": "code",
   "execution_count": null,
   "id": "566463a3",
   "metadata": {},
   "outputs": [],
   "source": [
    "import numpy as np\n",
    "import pandas as pd\n",
    "import matplotlib.pyplot as plt\n",
    "import seaborn as sns\n",
    "import pymc as pm\n",
    "import arviz as az\n",
    "from rdkit import Chem\n",
    "from rdkit.Chem import Descriptors\n",
    "from rdkit.Chem import rdPartialCharges\n",
    "from sklearn.preprocessing import StandardScaler\n",
    "from sklearn.decomposition import PCA\n",
    "from google.colab import files\n"
   ]
  },
  {
   "cell_type": "markdown",
   "id": "13c9b0fc",
   "metadata": {},
   "source": [
    "## Upload CSV Data"
   ]
  },
  {
   "cell_type": "code",
   "execution_count": null,
   "id": "c86b12aa",
   "metadata": {},
   "outputs": [],
   "source": [
    "uploaded = files.upload()\n",
    "csv_path = next(iter(uploaded))\n",
    "df = pd.read_csv(csv_path)\n",
    "\n",
    "df = df.rename(columns={\n",
    "    'isomeric SMILES(NB)': 'smiles_NB',\n",
    "    'isomeric SMILES(Tz)': 'smiles_Tz',\n",
    "    'dielectric constant': 'dielectric',\n",
    "    'ET(30), kcal/mol': 'ET30',\n",
    "    'temperature(K)': 'temp_K',\n",
    "    'Rate Constant (k₂) M-1s-1': 'rate_constant',\n",
    "    'error': 'error'\n",
    "})\n",
    "df.head()\n"
   ]
  },
  {
   "cell_type": "markdown",
   "id": "e82cdae7",
   "metadata": {},
   "source": [
    "## Calculate Molecular Descriptors"
   ]
  },
  {
   "cell_type": "code",
   "execution_count": null,
   "id": "2b372add",
   "metadata": {},
   "outputs": [],
   "source": [
    "def compute_desc(smiles, error_log):\n",
    "    mol = Chem.MolFromSmiles(smiles)\n",
    "    if mol is None:\n",
    "        error_log.append(smiles)\n",
    "        return (np.nan,)*6\n",
    "    try:\n",
    "        rdPartialCharges.ComputeGasteigerCharges(mol)\n",
    "        return (\n",
    "            Descriptors.MolWt(mol),\n",
    "            Descriptors.MolLogP(mol),\n",
    "            Descriptors.TPSA(mol),\n",
    "            Descriptors.MaxPartialCharge(mol),\n",
    "            Descriptors.LabuteASA(mol),\n",
    "            Descriptors.BalabanJ(mol),\n",
    "        )\n",
    "    except Exception as e:\n",
    "        error_log.append(f\"{smiles} ({e})\")\n",
    "        return (np.nan,)*6\n",
    "\n",
    "nb_error_log, tz_error_log = [], []\n",
    "\n",
    "nb_feats = df['smiles_NB'].apply(lambda x: compute_desc(x, nb_error_log)).tolist()\n",
    "tz_feats = df['smiles_Tz'].apply(lambda x: compute_desc(x, tz_error_log)).tolist()\n",
    "\n",
    "df[['NB_MolWt', 'NB_LogP', 'NB_TPSA', 'NB_MaxPartialCharge', 'NB_LabuteASA', 'NB_BalabanJ']] = pd.DataFrame(nb_feats, index=df.index)\n",
    "df[['Tz_MolWt', 'Tz_LogP', 'Tz_TPSA', 'Tz_MaxPartialCharge', 'Tz_LabuteASA', 'Tz_BalabanJ']] = pd.DataFrame(tz_feats, index=df.index)\n"
   ]
  },
  {
   "cell_type": "markdown",
   "id": "4dcdf898",
   "metadata": {},
   "source": [
    "## PCA Feature Reduction"
   ]
  },
  {
   "cell_type": "code",
   "execution_count": null,
   "id": "c3cfc0aa",
   "metadata": {},
   "outputs": [],
   "source": [
    "tz_cols = ['Tz_MolWt', 'Tz_LogP', 'Tz_TPSA', 'Tz_MaxPartialCharge', 'Tz_LabuteASA', 'Tz_BalabanJ']\n",
    "nb_cols = ['NB_MolWt', 'NB_LogP', 'NB_TPSA', 'NB_MaxPartialCharge', 'NB_LabuteASA', 'NB_BalabanJ']\n",
    "other_cols = ['dielectric', 'ET30', 'temp_K']\n",
    "\n",
    "pca_input_cols = nb_cols + tz_cols + other_cols + ['rate_constant', 'error']\n",
    "df = df.dropna(subset=pca_input_cols)\n",
    "\n",
    "def scale_pca(df, cols):\n",
    "    scaler = StandardScaler()\n",
    "    X_scaled = scaler.fit_transform(df[cols])\n",
    "    pca = PCA(n_components=2)\n",
    "    return pca.fit_transform(X_scaled), scaler, pca\n",
    "\n",
    "tz_pca_result, scaler_tz, pca_tz = scale_pca(df, tz_cols)\n",
    "nb_pca_result, scaler_nb, pca_nb = scale_pca(df, nb_cols)\n",
    "other_pca_result, scaler_other, pca_other = scale_pca(df, other_cols)\n",
    "\n",
    "df['Tz_PC1'], df['Tz_PC2'] = tz_pca_result[:, 0], tz_pca_result[:, 1]\n",
    "df['NB_PC1'], df['NB_PC2'] = nb_pca_result[:, 0], nb_pca_result[:, 1]\n",
    "df['Other_PC1'], df['Other_PC2'] = other_pca_result[:, 0], other_pca_result[:, 1]\n",
    "\n",
    "feature_cols = ['Tz_PC1', 'Tz_PC2', 'NB_PC1', 'NB_PC2', 'Other_PC1', 'Other_PC2']\n",
    "scaler_final = StandardScaler()\n",
    "X_scaled = scaler_final.fit_transform(df[feature_cols])\n",
    "y = df['rate_constant'].values\n",
    "sigma_obs = df['error'].clip(lower=0.02).values\n"
   ]
  },
  {
   "cell_type": "markdown",
   "id": "98093000",
   "metadata": {},
   "source": [
    "## Bayesian Gaussian Process Model with PyMC"
   ]
  },
  {
   "cell_type": "code",
   "execution_count": null,
   "id": "1dfa6e26",
   "metadata": {},
   "outputs": [],
   "source": [
    "with pm.Model() as gp_model:\n",
    "    ℓ = pm.Gamma(\"ℓ\", alpha=5, beta=2)\n",
    "    η = pm.HalfNormal(\"η\", sigma=1)\n",
    "    cov = η**2 * pm.gp.cov.ExpQuad(input_dim=X_scaled.shape[1], ls=ℓ)\n",
    "\n",
    "    gp = pm.gp.Latent(cov_func=cov)\n",
    "    f = gp.prior(\"f\", X=X_scaled)\n",
    "\n",
    "    sigma_known = sigma_obs\n",
    "    sigma_total = pm.Deterministic(\"sigma_total\", pm.math.sqrt(sigma_obs**2 + sigma_known**2))\n",
    "    y_ = pm.Lognormal(\"y\", mu=f, sigma=sigma_total, observed=y)\n"
   ]
  },
  {
   "cell_type": "markdown",
   "id": "58f575ac",
   "metadata": {},
   "source": [
    "## Posterior Sampling with NUTS"
   ]
  },
  {
   "cell_type": "code",
   "execution_count": null,
   "id": "16fb8117",
   "metadata": {},
   "outputs": [],
   "source": [
    "with gp_model:\n",
    "    trace = pm.sample(\n",
    "        draws=2000,\n",
    "        tune=1000,\n",
    "        chains=2,\n",
    "        target_accept=0.95,\n",
    "        random_seed=42\n",
    "    )\n"
   ]
  },
  {
   "cell_type": "markdown",
   "id": "0739b283",
   "metadata": {},
   "source": [
    "## Trace and Posterior Plots"
   ]
  },
  {
   "cell_type": "code",
   "execution_count": null,
   "id": "f350885a",
   "metadata": {},
   "outputs": [],
   "source": [
    "az.plot_trace(trace, var_names=[\"ℓ\", \"η\"])\n",
    "plt.tight_layout()\n",
    "plt.show()\n",
    "\n",
    "az.plot_posterior(trace, var_names=[\"ℓ\", \"η\"])\n",
    "plt.tight_layout()\n",
    "plt.show()\n"
   ]
  },
  {
   "cell_type": "markdown",
   "id": "d9c7a415",
   "metadata": {},
   "source": [
    "## Posterior Predictive Check"
   ]
  },
  {
   "cell_type": "code",
   "execution_count": null,
   "id": "906c00c1",
   "metadata": {},
   "outputs": [],
   "source": [
    "with gp_model:\n",
    "    idata_ppc = pm.sample_posterior_predictive(trace, var_names=[\"y\"], random_seed=42, return_inferencedata=True)\n",
    "\n",
    "y_ppc_log = idata_ppc.posterior_predictive[\"y\"].stack(sample=(\"chain\", \"draw\")).values\n",
    "y_ppc = np.exp(y_ppc_log)\n",
    "mu_ppc = y_ppc.mean(axis=-1)\n",
    "sd_ppc = y_ppc.std(axis=-1)\n",
    "\n",
    "plt.figure(figsize=(10, 5))\n",
    "plt.errorbar(np.arange(len(mu_ppc)), mu_ppc, yerr=sd_ppc, fmt='o', label=\"Posterior Predictive Mean ± SD\")\n",
    "plt.scatter(np.arange(len(y)), y, color='r', alpha=0.7, label=\"Observed y\")\n",
    "plt.xlabel(\"Observation Index\")\n",
    "plt.ylabel(\"y value\")\n",
    "plt.legend()\n",
    "plt.title(\"Observed vs Posterior Predictive Mean ± SD\")\n",
    "plt.tight_layout()\n",
    "plt.show()\n"
   ]
  }
 ],
 "metadata": {},
 "nbformat": 4,
 "nbformat_minor": 5
}
